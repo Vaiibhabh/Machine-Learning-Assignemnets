{
 "cells": [
  {
   "cell_type": "markdown",
   "id": "24d3cfce",
   "metadata": {},
   "source": [
    "# 1. What does one mean by the term \"machine learning\"?"
   ]
  },
  {
   "cell_type": "markdown",
   "id": "ed10fd82",
   "metadata": {},
   "source": [
    "Ans. Automatic learning ML is a subfield of Artificial Intelligence (AI) that enables software applications to predict outcomes more precisely without being explicitly programmed to do so. The input for machine learning algorithms is historical data used to predict future output values."
   ]
  },
  {
   "cell_type": "markdown",
   "id": "96a18fc6",
   "metadata": {},
   "source": [
    "# 2.Can you think of 4 distinct types of issues where it shines?"
   ]
  },
  {
   "cell_type": "markdown",
   "id": "03a221d6",
   "metadata": {},
   "source": [
    "Ans.\n",
    "**Speech Recognition:** When using Google, the Search by voice feature falls under speech recognition and is a common application of machine learning. Speech recognition is the process of converting voice commands to text, also known as Speech to text or computer-based speech recognition. Various speech recognition applications currently employ machine learning algorithms in large numbers. Google assistant, Siri, Cortana, and Alexa use speech recognition technology to interpret voice commands.\n",
    "\n",
    "**Traffic prediction:** It predicts the traffic conditions, such as whether the traffic is clear, moving slowly, or heavily congested, using two methods: Real Time vehicle location from the Google Maps app and sensors At the same time each day in the past, average time has passed.\n",
    "\n",
    "**Image Recognition:** One of the most prevalent applications of machine learning is image recognition. It is used to identify things, individuals, locations, digital images, etc. The most common application of image recognition and face detection is Automatic friend tagging recommendation.\n",
    "\n",
    "**Product recommendations:** Various e-commerce and entertainment companies, such as Amazon, Netflix, etc., use machine learning extensively for product recommendations to the user.Product recommendations: Various e-commerce and entertainment companies, such as Amazon, Netflix, etc., use machine learning extensively for product recommendations to the user."
   ]
  },
  {
   "cell_type": "markdown",
   "id": "02a78434",
   "metadata": {},
   "source": [
    "# 3.What is a labeled training set, and how does it work?"
   ]
  },
  {
   "cell_type": "markdown",
   "id": "8955957a",
   "metadata": {},
   "source": [
    "Ans. labeled taining set means the data which already has the **right answers** for its historical data set. and it is done by, dividing the data containing values for known response variables into two parts. The training set is used to train the algorithm, and then the trained model is applied to the test set to predict the known response variable values."
   ]
  },
  {
   "cell_type": "markdown",
   "id": "c958fdbb",
   "metadata": {},
   "source": [
    "# 4.What are the two most important tasks that are supervised?"
   ]
  },
  {
   "cell_type": "markdown",
   "id": "a12e321c",
   "metadata": {},
   "source": [
    "Ans.The two most common supervised learning tasks are Regression and Classification."
   ]
  },
  {
   "cell_type": "markdown",
   "id": "00d2ea0a",
   "metadata": {},
   "source": [
    "# 5.Can you think of four examples of unsupervised tasks?"
   ]
  },
  {
   "cell_type": "markdown",
   "id": "848940a9",
   "metadata": {},
   "source": [
    "Ans. : Four common Unsupervised Tasks included Clustering, Visualization, Dimensionality Reduction, and Association Rule Learning."
   ]
  },
  {
   "cell_type": "markdown",
   "id": "9cc0c032",
   "metadata": {},
   "source": [
    "# 6.State the machine learning model that would be best to make a robot walk through various unfamiliar terrains?"
   ]
  },
  {
   "cell_type": "markdown",
   "id": "143d63f5",
   "metadata": {},
   "source": [
    "Ans. Reinforced Learning is the best Machine Learning algorithm for allowing a robot to traverse unfamiliar terrains, as the robot can optimise itself by learning from the response of the terrain."
   ]
  },
  {
   "cell_type": "markdown",
   "id": "29e5c5ed",
   "metadata": {},
   "source": [
    "# 7.Which algorithm will you use to divide your customers into different groups?"
   ]
  },
  {
   "cell_type": "markdown",
   "id": "ff4d5da2",
   "metadata": {},
   "source": [
    "Ans. Either Supervised Learning (if the groups have known labels) or Unsupervised Learning is the best algorithm for segmenting customers into distinct groups (if there are no group labels)."
   ]
  },
  {
   "cell_type": "markdown",
   "id": "0511274c",
   "metadata": {},
   "source": [
    "# 8.Will you consider the problem of spam detection to be a supervised or unsupervised learning problem?"
   ]
  },
  {
   "cell_type": "markdown",
   "id": "35295de6",
   "metadata": {},
   "source": [
    "Ans.  Spam detection is a Supervised Machine Learning problem because the labels are known (spam or no spam)."
   ]
  },
  {
   "cell_type": "markdown",
   "id": "14b0e42a",
   "metadata": {},
   "source": [
    "# 9.What is the concept of an online learning system?"
   ]
  },
  {
   "cell_type": "markdown",
   "id": "4fd80a43",
   "metadata": {},
   "source": [
    "Ans. As data is provided in small streams continuously, an online learning system is a system in which the machine continuously learns."
   ]
  },
  {
   "cell_type": "markdown",
   "id": "11eb5e62",
   "metadata": {},
   "source": [
    "# 10.What is out-of-core learning, and how does it differ from core learning?"
   ]
  },
  {
   "cell_type": "markdown",
   "id": "e9c12b81",
   "metadata": {},
   "source": [
    "Ans. Out-of-core learning system is a system that can process data that is too large to fit in computer memory. It utilises an online learning system to feed small amounts of data."
   ]
  },
  {
   "cell_type": "markdown",
   "id": "17bc46cb",
   "metadata": {},
   "source": [
    "# 11.What kind of learning algorithm makes predictions using a similarity measure?"
   ]
  },
  {
   "cell_type": "markdown",
   "id": "9157821a",
   "metadata": {},
   "source": [
    "Ans. Learning algorithm that relies on a similarity measure to make predictions is Instance Based Algorithm."
   ]
  },
  {
   "cell_type": "markdown",
   "id": "218e982d",
   "metadata": {},
   "source": [
    "# 12.What's the difference between a model parameter and a hyperparameter in a learning algorithm?"
   ]
  },
  {
   "cell_type": "markdown",
   "id": "c92546d2",
   "metadata": {},
   "source": [
    "Ans. Given a new instance, a model parameter determines how the model will predict. Typically, a model has multiple parameters (i.e. slope of a linear model). Hyperparameter is a learning algorithm parameter, not a model parameter."
   ]
  },
  {
   "cell_type": "markdown",
   "id": "3489eedb",
   "metadata": {},
   "source": [
    "# 13.What are the criteria that model-based learning algorithms look for? What is the most popular method they use to achieve success? What method do they use to make predictions?"
   ]
  },
  {
   "cell_type": "markdown",
   "id": "f0fe6a89",
   "metadata": {},
   "source": [
    "Ans. Model-based learning algorithms seek the optimal parameter values for a model that will yield the best outcomes for new instances. Frequently, we use a cost function or a function of a similar type to determine the parameter value required to minimise the function. Using the value of the new instance and the parameters in its function, the model makes predictions."
   ]
  },
  {
   "cell_type": "markdown",
   "id": "0506afca",
   "metadata": {},
   "source": [
    "# 14.Can you name four of the most important Machine Learning challenges?"
   ]
  },
  {
   "cell_type": "markdown",
   "id": "0be5f251",
   "metadata": {},
   "source": [
    "Ans. Four main challenges in Machine Learning include the following:\n",
    "\n",
    "Overfitting the Data (using a model too complicated)\n",
    "\n",
    "Underfitting the data (using a simple model)\n",
    "\n",
    "Lacking in Data\n",
    "\n",
    "Non Representative Data."
   ]
  },
  {
   "cell_type": "markdown",
   "id": "52aaaa10",
   "metadata": {},
   "source": [
    "# 15.What happens if the model performs well on the training data but fails to generalize the results to new situations? Can you think of three different options?"
   ]
  },
  {
   "cell_type": "markdown",
   "id": "6e42ed5d",
   "metadata": {},
   "source": [
    "Ans.  If the model performs poorly to new instances, then it has overfitted on the training data. To solve this, we can do any of the following three:\n",
    "\n",
    "Get more data\n",
    "\n",
    "Implement a simpler model\n",
    "\n",
    "Eliminate outliers or noise from the existing data set."
   ]
  },
  {
   "cell_type": "markdown",
   "id": "ad06b455",
   "metadata": {},
   "source": [
    "# 16.What exactly is a test set, and why would you need one?"
   ]
  },
  {
   "cell_type": "markdown",
   "id": "2aba5e08",
   "metadata": {},
   "source": [
    "Ans. Test set is a set used to evaluate the performance of your model (fit using training data). A test set is essential for determining how well (or poorly) a model performs."
   ]
  },
  {
   "cell_type": "markdown",
   "id": "77ea0151",
   "metadata": {},
   "source": [
    "# 17.What is a validation set's purpose?"
   ]
  },
  {
   "cell_type": "markdown",
   "id": "6bdb3831",
   "metadata": {},
   "source": [
    "Ans. Validation set is a set used to compare between different training models."
   ]
  },
  {
   "cell_type": "markdown",
   "id": "791019b7",
   "metadata": {},
   "source": [
    "# 18.What precisely is the train-dev kit, when will you need it, how do you put it to use?"
   ]
  },
  {
   "cell_type": "markdown",
   "id": "d06920d7",
   "metadata": {},
   "source": [
    "Ans. Cross-validation is a technique for comparing models without a separate validation set. It is preferred over validation set because we can avoid slicing up a portion of the training set to create a validation set, and having more data is always advantageous."
   ]
  },
  {
   "cell_type": "markdown",
   "id": "fd5eb3ce",
   "metadata": {},
   "source": [
    "# 19.What could go wrong if you use the test set to tune hyperparameters?"
   ]
  },
  {
   "cell_type": "markdown",
   "id": "e30d1a81",
   "metadata": {},
   "source": [
    "Ans.  If you tune hyperparameters using the test sets, then it may not perform well on the out-of-sample data because the model is tuned just for that specific set"
   ]
  }
 ],
 "metadata": {
  "kernelspec": {
   "display_name": "Python 3 (ipykernel)",
   "language": "python",
   "name": "python3"
  },
  "language_info": {
   "codemirror_mode": {
    "name": "ipython",
    "version": 3
   },
   "file_extension": ".py",
   "mimetype": "text/x-python",
   "name": "python",
   "nbconvert_exporter": "python",
   "pygments_lexer": "ipython3",
   "version": "3.9.12"
  }
 },
 "nbformat": 4,
 "nbformat_minor": 5
}
