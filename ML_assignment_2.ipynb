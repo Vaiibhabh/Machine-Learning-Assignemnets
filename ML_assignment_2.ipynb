{
 "cells": [
  {
   "cell_type": "markdown",
   "id": "99a1ca54",
   "metadata": {},
   "source": [
    "# 1. What is the concept of human learning? Please give two examples."
   ]
  },
  {
   "cell_type": "markdown",
   "id": "1b062a0a",
   "metadata": {},
   "source": [
    "Ans. Human learning is the type of learning that necessitates higher order mental processes such as reasoning, intelligence, and so on. We learn various concepts beginning in childhood. For instance:\n",
    "\n",
    "Classical Conditioning entails learning by association.\n",
    "\n",
    "Operant Conditioning is the study of learning through consequences.\n",
    "\n",
    "Observation-based learning, also known as Modeling/Observational Learning."
   ]
  },
  {
   "cell_type": "markdown",
   "id": "5fc6eb2a",
   "metadata": {},
   "source": [
    "# 2. What different forms of human learning are there? Are there any machine learning equivalents?"
   ]
  },
  {
   "cell_type": "markdown",
   "id": "f30ea3c9",
   "metadata": {},
   "source": [
    "Ans. Different ML Forms include the following:\n",
    "\n",
    "Artificial Intelligence Learning Theories. Machine Learning. Reinforcement Learning. Supervised Learning. Unsupervised Learning.\n",
    "\n",
    "ML equivalents like Linear regression, decision trees, random forest and support vector machines are some commonly used techniques that are actually examples of supervised learning."
   ]
  },
  {
   "cell_type": "markdown",
   "id": "0a070509",
   "metadata": {},
   "source": [
    "# 3. What is machine learning, and how does it work? What are the key responsibilities of machine learning?"
   ]
  },
  {
   "cell_type": "markdown",
   "id": "e7837853",
   "metadata": {},
   "source": [
    "Ans. Machine learning is a subfield of artificial intelligence (AI) that teaches computers to think in a human-like manner, such as by learning from and enhancing past experiences.\n",
    "\n",
    "It operates by analysing data and recognising patterns with minimal human intervention.\n",
    "\n",
    "The responsibilities and roles of a machine learning engineer are as follows:\n",
    "\n",
    "--Designing ML systems.\n",
    "\n",
    "--Implementing and researching ML algorithms and tools. Selecting suitable data sets.\n",
    "\n",
    "--Selecting suitable data representation methods. Identifying data distribution differences that affect model performance.\n",
    "\n",
    "--Verifying data quality."
   ]
  },
  {
   "cell_type": "markdown",
   "id": "c7df4696",
   "metadata": {},
   "source": [
    "# 4. Define the terms \"penalty\" and \"reward\" in the context of reinforcement learning."
   ]
  },
  {
   "cell_type": "markdown",
   "id": "c526997e",
   "metadata": {},
   "source": [
    "Ans. A Reinforcement Learning Algorithm, also known as an agent, gains knowledge by interacting with its environment. The agent is rewarded for performing well, and penalised for performing poorly. The agent acquires knowledge without human intervention by maximising its reward and minimising its penalty."
   ]
  },
  {
   "cell_type": "markdown",
   "id": "4cc60b4c",
   "metadata": {},
   "source": [
    "# 5. Explain the term \"learning as a search\"?"
   ]
  },
  {
   "cell_type": "markdown",
   "id": "0e9922c0",
   "metadata": {},
   "source": [
    "Ans. Learning can be viewed as a search through the space of all sentences in a concept description language for a sentence that best describes the data. Alternatively, it can be viewed as a search through all hypotheses in a hypothesis space."
   ]
  },
  {
   "cell_type": "markdown",
   "id": "3bceec55",
   "metadata": {},
   "source": [
    "# 6. What are the various goals of machine learning? What is the relationship between these and human learning?"
   ]
  },
  {
   "cell_type": "markdown",
   "id": "bc599813",
   "metadata": {},
   "source": [
    "Ans. The goal of machine learning, which is closely related to the goal of artificial intelligence, is to achieve a comprehensive understanding of the nature of the learning process (both human learning and other forms of learning), the computational aspects of learning behaviours, and to imbue computer systems with the ability to learn.\n",
    "\n",
    "With the advancement of artificial intelligence, machine learning has become a resource that can complement or even replace human learning. Learning is a gradual process that builds upon and is shaped by prior knowledge."
   ]
  },
  {
   "cell_type": "markdown",
   "id": "269370d4",
   "metadata": {},
   "source": [
    "# 7. Illustrate the various elements of machine learning using a real-life illustration."
   ]
  },
  {
   "cell_type": "markdown",
   "id": "5566c723",
   "metadata": {},
   "source": [
    "Ans. The Various elements of the the Machine Learning are:\n",
    "\n",
    "--Data Ingestion\n",
    "\n",
    "--Task- data analysis using EDA, feature analysis, feature scaling etc.\n",
    "\n",
    "--Model- training, testing\n",
    "\n",
    "--Loss Function- optimizing of loss function through fit\n",
    "\n",
    "--Learning Algorithm- appliying algorithm to predict \n",
    "\n",
    "--Evaluation-- using more data to evolve"
   ]
  },
  {
   "cell_type": "markdown",
   "id": "7a81f22e",
   "metadata": {},
   "source": [
    "# 8. Provide an example of the abstraction method."
   ]
  },
  {
   "cell_type": "markdown",
   "id": "1c430c4a",
   "metadata": {},
   "source": [
    "Ans. Abstraction is supported primarily at the module level in Machine Learning. This can be explained in two ways: first, since data abstraction is primarily a question of programme interfaces, it naturally arises at the point where programme composition and modules must be considered."
   ]
  },
  {
   "cell_type": "markdown",
   "id": "c86135bf",
   "metadata": {},
   "source": [
    "# 9. What is the concept of generalization? What function does it play in the machine learning process?"
   ]
  },
  {
   "cell_type": "markdown",
   "id": "471afb2e",
   "metadata": {},
   "source": [
    "Ans. Generalization refers to the capacity of your model to adapt appropriately to new, unobserved data drawn from the same distribution as the data used to create the model.\n",
    "\n",
    "Generalization is a term used in machine learning to indicate how well a trained model can classify or predict unknown data.\n",
    "\n",
    "This issue may cause an actual dog image to be classified as a cat from an unseen dataset. Therefore, data diversity is a crucial factor for making accurate predictions."
   ]
  },
  {
   "cell_type": "markdown",
   "id": "56e893eb",
   "metadata": {},
   "source": [
    "# 10. What is classification, exactly? What are the main distinctions between classification and regression?"
   ]
  },
  {
   "cell_type": "markdown",
   "id": "c065946a",
   "metadata": {},
   "source": [
    "Ans. In Machine Learning, Classification refers to a predictive modeling problem where a class label is predicted for a given example of input data.Classification is the task of predicting a discrete class label. Whereas Regression is the task of predicting a continuous quantity."
   ]
  },
  {
   "cell_type": "markdown",
   "id": "0dbf5fb9",
   "metadata": {},
   "source": [
    "# 11. What is regression, and how does it work? Give an example of a real-world problem that was solved using regression."
   ]
  },
  {
   "cell_type": "markdown",
   "id": "c9879f40",
   "metadata": {},
   "source": [
    "Ans. Regression is a technique of Supervised Machine Learning used to predict continuous values. The ultimate objective of a regression algorithm is to plot a line or curve that best fits the data.\n",
    "\n",
    "Variance, Bias, and Error are the three most important metrics used to evaluate a trained regression model.\n",
    "\n",
    "Real-world application of simple linear regression could involve establishing a relationship between revenue and temperature using a sample size for revenue as the dependent variable. In the case of multiple variable regression, the relationship between temperature, pricing, and number of employees and revenue can be determined."
   ]
  },
  {
   "cell_type": "markdown",
   "id": "be853849",
   "metadata": {},
   "source": [
    "# 12. Describe the clustering mechanism in detail."
   ]
  },
  {
   "cell_type": "markdown",
   "id": "40879244",
   "metadata": {},
   "source": [
    "Ans.  Clustering is the task of dividing the population or data points into a number of groups such that data points in the same groups are more similar to other data points in the same group than those in other groups. In simple words, the aim is to segregate groups with similar traits and assign them into clusters."
   ]
  },
  {
   "cell_type": "markdown",
   "id": "4179f56c",
   "metadata": {},
   "source": [
    "# 13. Make brief observations on two of the following topics:\n",
    "i. Machine learning algorithms are used\n",
    "\n",
    "ii. Studying under supervision\n",
    "\n",
    "iii. Studying without supervision\n",
    "\n",
    "iv. Reinforcement learning is a form of learning based on positive reinforcement.\n"
   ]
  },
  {
   "cell_type": "markdown",
   "id": "d0242169",
   "metadata": {},
   "source": [
    "Ans. \n",
    "**Machine learning algorithms are used:** At its Most basic, Machine Learning uses programmed algorithms that receive and analyse input data to predict output values within an acceptable range. As new data is fed to these algorithms, they learn and optimise their operations to improve performance, developing intelligence over time.\n",
    "\n",
    "**Studying Under Supervision:** In machine learning, there are two important categories- Supervised and Unsupervised learning.Supervised learning, an algorithm learns from a training dataset. We know the correct answers or desired output, the algorithm makes predictions using the given dataset and is corrected by the “supervisor”.\n",
    "\n",
    "\n",
    "**Studying without supervisionlso:** It is also known as unsupervised machine learning, uses machine learning algorithms to analyze and cluster unlabeled datasets. These algorithms discover hidden patterns or data groupings without the need for human intervention.\n",
    "\n",
    "**Reinforcement learning is a form of learning based on positive reinforcement:** It is based on rewarding and/or punishing desired and undesirable behaviours. A reinforcement learning agent can, in general, perceive and interpret its environment, act, and learn through trial and error."
   ]
  }
 ],
 "metadata": {
  "kernelspec": {
   "display_name": "Python 3 (ipykernel)",
   "language": "python",
   "name": "python3"
  },
  "language_info": {
   "codemirror_mode": {
    "name": "ipython",
    "version": 3
   },
   "file_extension": ".py",
   "mimetype": "text/x-python",
   "name": "python",
   "nbconvert_exporter": "python",
   "pygments_lexer": "ipython3",
   "version": "3.9.12"
  }
 },
 "nbformat": 4,
 "nbformat_minor": 5
}
